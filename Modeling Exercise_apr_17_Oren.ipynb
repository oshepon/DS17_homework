{
 "cells": [
  {
   "cell_type": "markdown",
   "id": "05bb7c4c-452a-408f-ac26-b184f1e10862",
   "metadata": {},
   "source": [
    "# Modeling exercise"
   ]
  },
  {
   "cell_type": "code",
   "execution_count": 197,
   "id": "af8ebfd9-7b24-42a2-afa4-f3ac19137a4e",
   "metadata": {},
   "outputs": [
    {
     "name": "stdout",
     "output_type": "stream",
     "text": [
      "The autoreload extension is already loaded. To reload it, use:\n",
      "  %reload_ext autoreload\n"
     ]
    }
   ],
   "source": [
    "%load_ext autoreload\n",
    "%autoreload 2"
   ]
  },
  {
   "cell_type": "code",
   "execution_count": 198,
   "id": "5e136158-e12c-4d15-9c47-3cd726054a71",
   "metadata": {},
   "outputs": [],
   "source": [
    "import pandas as pd\n",
    "import numpy as np\n",
    "import plotly_express as px\n",
    "import ipywidgets as widgets"
   ]
  },
  {
   "cell_type": "code",
   "execution_count": 199,
   "id": "a4d54513-227b-4064-b932-e8c826fcfa4e",
   "metadata": {},
   "outputs": [],
   "source": [
    "slope, intercept = 2.5, 6"
   ]
  },
  {
   "cell_type": "code",
   "execution_count": 200,
   "id": "e67d56a6-dea9-4fe9-89a6-cc2642cd41e2",
   "metadata": {},
   "outputs": [],
   "source": [
    "x_1, x_2 = 0.2, 0.6\n",
    "on_line = [[x, x*slope + intercept,'on_line'] for x in np.linspace(-1,2,100)]\n",
    "\n",
    "above_line = [[x_1, x_1*slope + intercept + 2, 'Above'], \n",
    "              [x_2, x_2*slope + intercept + 2, 'Above']] \n",
    "\n",
    "below_line = [[x_1, x_1*slope + intercept - 2, 'Below'], \n",
    "              [x_2, x_2*slope + intercept - 2, 'Below']] "
   ]
  },
  {
   "cell_type": "code",
   "execution_count": 201,
   "id": "69baaa58-3c40-41dc-b027-fba3d69e8b5a",
   "metadata": {},
   "outputs": [],
   "source": [
    "columns = ['x','y','label']\n",
    "data = pd.DataFrame(on_line + above_line + below_line, columns = columns)"
   ]
  },
  {
   "cell_type": "code",
   "execution_count": 202,
   "id": "4fd91c55-8897-4686-b97b-65b23bf84675",
   "metadata": {},
   "outputs": [
    {
     "data": {
      "application/vnd.plotly.v1+json": {
       "config": {
        "plotlyServerURL": "https://plot.ly"
       },
       "data": [
        {
         "hovertemplate": "label=on_line<br>x=%{x}<br>y=%{y}<extra></extra>",
         "legendgroup": "on_line",
         "marker": {
          "color": "#636efa",
          "symbol": "circle"
         },
         "mode": "markers",
         "name": "on_line",
         "orientation": "v",
         "showlegend": true,
         "type": "scatter",
         "x": [
          -1,
          -0.9696969696969697,
          -0.9393939393939394,
          -0.9090909090909091,
          -0.8787878787878788,
          -0.8484848484848485,
          -0.8181818181818181,
          -0.7878787878787878,
          -0.7575757575757576,
          -0.7272727272727273,
          -0.696969696969697,
          -0.6666666666666666,
          -0.6363636363636364,
          -0.6060606060606061,
          -0.5757575757575757,
          -0.5454545454545454,
          -0.5151515151515151,
          -0.48484848484848486,
          -0.4545454545454546,
          -0.4242424242424242,
          -0.3939393939393939,
          -0.36363636363636365,
          -0.33333333333333326,
          -0.303030303030303,
          -0.2727272727272727,
          -0.24242424242424243,
          -0.21212121212121215,
          -0.18181818181818177,
          -0.1515151515151515,
          -0.12121212121212122,
          -0.09090909090909083,
          -0.06060606060606055,
          -0.030303030303030276,
          0,
          0.030303030303030276,
          0.06060606060606055,
          0.09090909090909083,
          0.12121212121212133,
          0.1515151515151516,
          0.18181818181818188,
          0.21212121212121215,
          0.24242424242424243,
          0.2727272727272727,
          0.303030303030303,
          0.3333333333333335,
          0.36363636363636376,
          0.39393939393939403,
          0.4242424242424243,
          0.4545454545454546,
          0.48484848484848486,
          0.5151515151515151,
          0.5454545454545454,
          0.5757575757575757,
          0.6060606060606062,
          0.6363636363636365,
          0.6666666666666667,
          0.696969696969697,
          0.7272727272727273,
          0.7575757575757576,
          0.7878787878787878,
          0.8181818181818183,
          0.8484848484848486,
          0.8787878787878789,
          0.9090909090909092,
          0.9393939393939394,
          0.9696969696969697,
          1,
          1.0303030303030303,
          1.0606060606060606,
          1.0909090909090908,
          1.121212121212121,
          1.1515151515151514,
          1.1818181818181817,
          1.2121212121212124,
          1.2424242424242427,
          1.272727272727273,
          1.3030303030303032,
          1.3333333333333335,
          1.3636363636363638,
          1.393939393939394,
          1.4242424242424243,
          1.4545454545454546,
          1.4848484848484849,
          1.5151515151515151,
          1.5454545454545454,
          1.5757575757575757,
          1.606060606060606,
          1.6363636363636362,
          1.666666666666667,
          1.6969696969696972,
          1.7272727272727275,
          1.7575757575757578,
          1.787878787878788,
          1.8181818181818183,
          1.8484848484848486,
          1.878787878787879,
          1.9090909090909092,
          1.9393939393939394,
          1.9696969696969697,
          2
         ],
         "xaxis": "x",
         "y": [
          3.5,
          3.5757575757575757,
          3.6515151515151514,
          3.7272727272727275,
          3.803030303030303,
          3.878787878787879,
          3.9545454545454546,
          4.03030303030303,
          4.1060606060606055,
          4.181818181818182,
          4.257575757575758,
          4.333333333333334,
          4.409090909090909,
          4.484848484848484,
          4.5606060606060606,
          4.636363636363637,
          4.712121212121212,
          4.787878787878788,
          4.863636363636363,
          4.9393939393939394,
          5.015151515151516,
          5.090909090909091,
          5.166666666666667,
          5.242424242424242,
          5.318181818181818,
          5.393939393939394,
          5.46969696969697,
          5.545454545454546,
          5.621212121212121,
          5.696969696969697,
          5.772727272727273,
          5.848484848484849,
          5.924242424242424,
          6,
          6.075757575757576,
          6.151515151515151,
          6.227272727272727,
          6.303030303030304,
          6.378787878787879,
          6.454545454545455,
          6.53030303030303,
          6.606060606060606,
          6.681818181818182,
          6.757575757575758,
          6.833333333333334,
          6.909090909090909,
          6.984848484848485,
          7.0606060606060606,
          7.136363636363637,
          7.212121212121212,
          7.287878787878788,
          7.363636363636363,
          7.4393939393939394,
          7.515151515151516,
          7.590909090909092,
          7.666666666666667,
          7.742424242424242,
          7.818181818181818,
          7.8939393939393945,
          7.96969696969697,
          8.045454545454547,
          8.121212121212121,
          8.196969696969697,
          8.272727272727273,
          8.348484848484848,
          8.424242424242424,
          8.5,
          8.575757575757576,
          8.651515151515152,
          8.727272727272727,
          8.803030303030303,
          8.878787878787879,
          8.954545454545453,
          9.030303030303031,
          9.106060606060606,
          9.181818181818183,
          9.257575757575758,
          9.333333333333334,
          9.40909090909091,
          9.484848484848484,
          9.56060606060606,
          9.636363636363637,
          9.712121212121211,
          9.787878787878789,
          9.863636363636363,
          9.93939393939394,
          10.015151515151516,
          10.09090909090909,
          10.166666666666668,
          10.242424242424242,
          10.318181818181818,
          10.393939393939394,
          10.46969696969697,
          10.545454545454547,
          10.621212121212121,
          10.696969696969697,
          10.772727272727273,
          10.848484848484848,
          10.924242424242424,
          11
         ],
         "yaxis": "y"
        },
        {
         "hovertemplate": "label=Above<br>x=%{x}<br>y=%{y}<extra></extra>",
         "legendgroup": "Above",
         "marker": {
          "color": "#EF553B",
          "symbol": "circle"
         },
         "mode": "markers",
         "name": "Above",
         "orientation": "v",
         "showlegend": true,
         "type": "scatter",
         "x": [
          0.2,
          0.6
         ],
         "xaxis": "x",
         "y": [
          8.5,
          9.5
         ],
         "yaxis": "y"
        },
        {
         "hovertemplate": "label=Below<br>x=%{x}<br>y=%{y}<extra></extra>",
         "legendgroup": "Below",
         "marker": {
          "color": "#00cc96",
          "symbol": "circle"
         },
         "mode": "markers",
         "name": "Below",
         "orientation": "v",
         "showlegend": true,
         "type": "scatter",
         "x": [
          0.2,
          0.6
         ],
         "xaxis": "x",
         "y": [
          4.5,
          5.5
         ],
         "yaxis": "y"
        }
       ],
       "layout": {
        "autosize": true,
        "legend": {
         "title": {
          "text": "label"
         },
         "tracegroupgap": 0
        },
        "margin": {
         "t": 60
        },
        "template": {
         "data": {
          "bar": [
           {
            "error_x": {
             "color": "#2a3f5f"
            },
            "error_y": {
             "color": "#2a3f5f"
            },
            "marker": {
             "line": {
              "color": "#E5ECF6",
              "width": 0.5
             },
             "pattern": {
              "fillmode": "overlay",
              "size": 10,
              "solidity": 0.2
             }
            },
            "type": "bar"
           }
          ],
          "barpolar": [
           {
            "marker": {
             "line": {
              "color": "#E5ECF6",
              "width": 0.5
             },
             "pattern": {
              "fillmode": "overlay",
              "size": 10,
              "solidity": 0.2
             }
            },
            "type": "barpolar"
           }
          ],
          "carpet": [
           {
            "aaxis": {
             "endlinecolor": "#2a3f5f",
             "gridcolor": "white",
             "linecolor": "white",
             "minorgridcolor": "white",
             "startlinecolor": "#2a3f5f"
            },
            "baxis": {
             "endlinecolor": "#2a3f5f",
             "gridcolor": "white",
             "linecolor": "white",
             "minorgridcolor": "white",
             "startlinecolor": "#2a3f5f"
            },
            "type": "carpet"
           }
          ],
          "choropleth": [
           {
            "colorbar": {
             "outlinewidth": 0,
             "ticks": ""
            },
            "type": "choropleth"
           }
          ],
          "contour": [
           {
            "colorbar": {
             "outlinewidth": 0,
             "ticks": ""
            },
            "colorscale": [
             [
              0,
              "#0d0887"
             ],
             [
              0.1111111111111111,
              "#46039f"
             ],
             [
              0.2222222222222222,
              "#7201a8"
             ],
             [
              0.3333333333333333,
              "#9c179e"
             ],
             [
              0.4444444444444444,
              "#bd3786"
             ],
             [
              0.5555555555555556,
              "#d8576b"
             ],
             [
              0.6666666666666666,
              "#ed7953"
             ],
             [
              0.7777777777777778,
              "#fb9f3a"
             ],
             [
              0.8888888888888888,
              "#fdca26"
             ],
             [
              1,
              "#f0f921"
             ]
            ],
            "type": "contour"
           }
          ],
          "contourcarpet": [
           {
            "colorbar": {
             "outlinewidth": 0,
             "ticks": ""
            },
            "type": "contourcarpet"
           }
          ],
          "heatmap": [
           {
            "colorbar": {
             "outlinewidth": 0,
             "ticks": ""
            },
            "colorscale": [
             [
              0,
              "#0d0887"
             ],
             [
              0.1111111111111111,
              "#46039f"
             ],
             [
              0.2222222222222222,
              "#7201a8"
             ],
             [
              0.3333333333333333,
              "#9c179e"
             ],
             [
              0.4444444444444444,
              "#bd3786"
             ],
             [
              0.5555555555555556,
              "#d8576b"
             ],
             [
              0.6666666666666666,
              "#ed7953"
             ],
             [
              0.7777777777777778,
              "#fb9f3a"
             ],
             [
              0.8888888888888888,
              "#fdca26"
             ],
             [
              1,
              "#f0f921"
             ]
            ],
            "type": "heatmap"
           }
          ],
          "heatmapgl": [
           {
            "colorbar": {
             "outlinewidth": 0,
             "ticks": ""
            },
            "colorscale": [
             [
              0,
              "#0d0887"
             ],
             [
              0.1111111111111111,
              "#46039f"
             ],
             [
              0.2222222222222222,
              "#7201a8"
             ],
             [
              0.3333333333333333,
              "#9c179e"
             ],
             [
              0.4444444444444444,
              "#bd3786"
             ],
             [
              0.5555555555555556,
              "#d8576b"
             ],
             [
              0.6666666666666666,
              "#ed7953"
             ],
             [
              0.7777777777777778,
              "#fb9f3a"
             ],
             [
              0.8888888888888888,
              "#fdca26"
             ],
             [
              1,
              "#f0f921"
             ]
            ],
            "type": "heatmapgl"
           }
          ],
          "histogram": [
           {
            "marker": {
             "pattern": {
              "fillmode": "overlay",
              "size": 10,
              "solidity": 0.2
             }
            },
            "type": "histogram"
           }
          ],
          "histogram2d": [
           {
            "colorbar": {
             "outlinewidth": 0,
             "ticks": ""
            },
            "colorscale": [
             [
              0,
              "#0d0887"
             ],
             [
              0.1111111111111111,
              "#46039f"
             ],
             [
              0.2222222222222222,
              "#7201a8"
             ],
             [
              0.3333333333333333,
              "#9c179e"
             ],
             [
              0.4444444444444444,
              "#bd3786"
             ],
             [
              0.5555555555555556,
              "#d8576b"
             ],
             [
              0.6666666666666666,
              "#ed7953"
             ],
             [
              0.7777777777777778,
              "#fb9f3a"
             ],
             [
              0.8888888888888888,
              "#fdca26"
             ],
             [
              1,
              "#f0f921"
             ]
            ],
            "type": "histogram2d"
           }
          ],
          "histogram2dcontour": [
           {
            "colorbar": {
             "outlinewidth": 0,
             "ticks": ""
            },
            "colorscale": [
             [
              0,
              "#0d0887"
             ],
             [
              0.1111111111111111,
              "#46039f"
             ],
             [
              0.2222222222222222,
              "#7201a8"
             ],
             [
              0.3333333333333333,
              "#9c179e"
             ],
             [
              0.4444444444444444,
              "#bd3786"
             ],
             [
              0.5555555555555556,
              "#d8576b"
             ],
             [
              0.6666666666666666,
              "#ed7953"
             ],
             [
              0.7777777777777778,
              "#fb9f3a"
             ],
             [
              0.8888888888888888,
              "#fdca26"
             ],
             [
              1,
              "#f0f921"
             ]
            ],
            "type": "histogram2dcontour"
           }
          ],
          "mesh3d": [
           {
            "colorbar": {
             "outlinewidth": 0,
             "ticks": ""
            },
            "type": "mesh3d"
           }
          ],
          "parcoords": [
           {
            "line": {
             "colorbar": {
              "outlinewidth": 0,
              "ticks": ""
             }
            },
            "type": "parcoords"
           }
          ],
          "pie": [
           {
            "automargin": true,
            "type": "pie"
           }
          ],
          "scatter": [
           {
            "marker": {
             "colorbar": {
              "outlinewidth": 0,
              "ticks": ""
             }
            },
            "type": "scatter"
           }
          ],
          "scatter3d": [
           {
            "line": {
             "colorbar": {
              "outlinewidth": 0,
              "ticks": ""
             }
            },
            "marker": {
             "colorbar": {
              "outlinewidth": 0,
              "ticks": ""
             }
            },
            "type": "scatter3d"
           }
          ],
          "scattercarpet": [
           {
            "marker": {
             "colorbar": {
              "outlinewidth": 0,
              "ticks": ""
             }
            },
            "type": "scattercarpet"
           }
          ],
          "scattergeo": [
           {
            "marker": {
             "colorbar": {
              "outlinewidth": 0,
              "ticks": ""
             }
            },
            "type": "scattergeo"
           }
          ],
          "scattergl": [
           {
            "marker": {
             "colorbar": {
              "outlinewidth": 0,
              "ticks": ""
             }
            },
            "type": "scattergl"
           }
          ],
          "scattermapbox": [
           {
            "marker": {
             "colorbar": {
              "outlinewidth": 0,
              "ticks": ""
             }
            },
            "type": "scattermapbox"
           }
          ],
          "scatterpolar": [
           {
            "marker": {
             "colorbar": {
              "outlinewidth": 0,
              "ticks": ""
             }
            },
            "type": "scatterpolar"
           }
          ],
          "scatterpolargl": [
           {
            "marker": {
             "colorbar": {
              "outlinewidth": 0,
              "ticks": ""
             }
            },
            "type": "scatterpolargl"
           }
          ],
          "scatterternary": [
           {
            "marker": {
             "colorbar": {
              "outlinewidth": 0,
              "ticks": ""
             }
            },
            "type": "scatterternary"
           }
          ],
          "surface": [
           {
            "colorbar": {
             "outlinewidth": 0,
             "ticks": ""
            },
            "colorscale": [
             [
              0,
              "#0d0887"
             ],
             [
              0.1111111111111111,
              "#46039f"
             ],
             [
              0.2222222222222222,
              "#7201a8"
             ],
             [
              0.3333333333333333,
              "#9c179e"
             ],
             [
              0.4444444444444444,
              "#bd3786"
             ],
             [
              0.5555555555555556,
              "#d8576b"
             ],
             [
              0.6666666666666666,
              "#ed7953"
             ],
             [
              0.7777777777777778,
              "#fb9f3a"
             ],
             [
              0.8888888888888888,
              "#fdca26"
             ],
             [
              1,
              "#f0f921"
             ]
            ],
            "type": "surface"
           }
          ],
          "table": [
           {
            "cells": {
             "fill": {
              "color": "#EBF0F8"
             },
             "line": {
              "color": "white"
             }
            },
            "header": {
             "fill": {
              "color": "#C8D4E3"
             },
             "line": {
              "color": "white"
             }
            },
            "type": "table"
           }
          ]
         },
         "layout": {
          "annotationdefaults": {
           "arrowcolor": "#2a3f5f",
           "arrowhead": 0,
           "arrowwidth": 1
          },
          "autotypenumbers": "strict",
          "coloraxis": {
           "colorbar": {
            "outlinewidth": 0,
            "ticks": ""
           }
          },
          "colorscale": {
           "diverging": [
            [
             0,
             "#8e0152"
            ],
            [
             0.1,
             "#c51b7d"
            ],
            [
             0.2,
             "#de77ae"
            ],
            [
             0.3,
             "#f1b6da"
            ],
            [
             0.4,
             "#fde0ef"
            ],
            [
             0.5,
             "#f7f7f7"
            ],
            [
             0.6,
             "#e6f5d0"
            ],
            [
             0.7,
             "#b8e186"
            ],
            [
             0.8,
             "#7fbc41"
            ],
            [
             0.9,
             "#4d9221"
            ],
            [
             1,
             "#276419"
            ]
           ],
           "sequential": [
            [
             0,
             "#0d0887"
            ],
            [
             0.1111111111111111,
             "#46039f"
            ],
            [
             0.2222222222222222,
             "#7201a8"
            ],
            [
             0.3333333333333333,
             "#9c179e"
            ],
            [
             0.4444444444444444,
             "#bd3786"
            ],
            [
             0.5555555555555556,
             "#d8576b"
            ],
            [
             0.6666666666666666,
             "#ed7953"
            ],
            [
             0.7777777777777778,
             "#fb9f3a"
            ],
            [
             0.8888888888888888,
             "#fdca26"
            ],
            [
             1,
             "#f0f921"
            ]
           ],
           "sequentialminus": [
            [
             0,
             "#0d0887"
            ],
            [
             0.1111111111111111,
             "#46039f"
            ],
            [
             0.2222222222222222,
             "#7201a8"
            ],
            [
             0.3333333333333333,
             "#9c179e"
            ],
            [
             0.4444444444444444,
             "#bd3786"
            ],
            [
             0.5555555555555556,
             "#d8576b"
            ],
            [
             0.6666666666666666,
             "#ed7953"
            ],
            [
             0.7777777777777778,
             "#fb9f3a"
            ],
            [
             0.8888888888888888,
             "#fdca26"
            ],
            [
             1,
             "#f0f921"
            ]
           ]
          },
          "colorway": [
           "#636efa",
           "#EF553B",
           "#00cc96",
           "#ab63fa",
           "#FFA15A",
           "#19d3f3",
           "#FF6692",
           "#B6E880",
           "#FF97FF",
           "#FECB52"
          ],
          "font": {
           "color": "#2a3f5f"
          },
          "geo": {
           "bgcolor": "white",
           "lakecolor": "white",
           "landcolor": "#E5ECF6",
           "showlakes": true,
           "showland": true,
           "subunitcolor": "white"
          },
          "hoverlabel": {
           "align": "left"
          },
          "hovermode": "closest",
          "mapbox": {
           "style": "light"
          },
          "paper_bgcolor": "white",
          "plot_bgcolor": "#E5ECF6",
          "polar": {
           "angularaxis": {
            "gridcolor": "white",
            "linecolor": "white",
            "ticks": ""
           },
           "bgcolor": "#E5ECF6",
           "radialaxis": {
            "gridcolor": "white",
            "linecolor": "white",
            "ticks": ""
           }
          },
          "scene": {
           "xaxis": {
            "backgroundcolor": "#E5ECF6",
            "gridcolor": "white",
            "gridwidth": 2,
            "linecolor": "white",
            "showbackground": true,
            "ticks": "",
            "zerolinecolor": "white"
           },
           "yaxis": {
            "backgroundcolor": "#E5ECF6",
            "gridcolor": "white",
            "gridwidth": 2,
            "linecolor": "white",
            "showbackground": true,
            "ticks": "",
            "zerolinecolor": "white"
           },
           "zaxis": {
            "backgroundcolor": "#E5ECF6",
            "gridcolor": "white",
            "gridwidth": 2,
            "linecolor": "white",
            "showbackground": true,
            "ticks": "",
            "zerolinecolor": "white"
           }
          },
          "shapedefaults": {
           "line": {
            "color": "#2a3f5f"
           }
          },
          "ternary": {
           "aaxis": {
            "gridcolor": "white",
            "linecolor": "white",
            "ticks": ""
           },
           "baxis": {
            "gridcolor": "white",
            "linecolor": "white",
            "ticks": ""
           },
           "bgcolor": "#E5ECF6",
           "caxis": {
            "gridcolor": "white",
            "linecolor": "white",
            "ticks": ""
           }
          },
          "title": {
           "x": 0.05
          },
          "xaxis": {
           "automargin": true,
           "gridcolor": "white",
           "linecolor": "white",
           "ticks": "",
           "title": {
            "standoff": 15
           },
           "zerolinecolor": "white",
           "zerolinewidth": 2
          },
          "yaxis": {
           "automargin": true,
           "gridcolor": "white",
           "linecolor": "white",
           "ticks": "",
           "title": {
            "standoff": 15
           },
           "zerolinecolor": "white",
           "zerolinewidth": 2
          }
         }
        },
        "xaxis": {
         "anchor": "y",
         "autorange": true,
         "domain": [
          0,
          1
         ],
         "range": [
          -1.184782608695652,
          2.1847826086956523
         ],
         "title": {
          "text": "x"
         },
         "type": "linear"
        },
        "yaxis": {
         "anchor": "x",
         "autorange": true,
         "domain": [
          0,
          1
         ],
         "range": [
          2.9192913385826773,
          11.580708661417322
         ],
         "title": {
          "text": "y"
         },
         "type": "linear"
        }
       }
      },
      "image/png": "[encoded data removed]",
      "text/html": [
       "<div>                            <div id=\"6bdfdc3f-f07f-4e64-9e2c-ae68836e394f\" class=\"plotly-graph-div\" style=\"height:525px; width:100%;\"></div>            <script type=\"text/javascript\">                require([\"plotly\"], function(Plotly) {                    window.PLOTLYENV=window.PLOTLYENV || {};                                    if (document.getElementById(\"6bdfdc3f-f07f-4e64-9e2c-ae68836e394f\")) {                    Plotly.newPlot(                        \"6bdfdc3f-f07f-4e64-9e2c-ae68836e394f\",                        [{\"hovertemplate\":\"label=on_line<br>x=%{x}<br>y=%{y}<extra></extra>\",\"legendgroup\":\"on_line\",\"marker\":{\"color\":\"#636efa\",\"symbol\":\"circle\"},\"mode\":\"markers\",\"name\":\"on_line\",\"orientation\":\"v\",\"showlegend\":true,\"x\":[-1.0,-0.9696969696969697,-0.9393939393939394,-0.9090909090909091,-0.8787878787878788,-0.8484848484848485,-0.8181818181818181,-0.7878787878787878,-0.7575757575757576,-0.7272727272727273,-0.696969696969697,-0.6666666666666666,-0.6363636363636364,-0.6060606060606061,-0.5757575757575757,-0.5454545454545454,-0.5151515151515151,-0.48484848484848486,-0.4545454545454546,-0.4242424242424242,-0.3939393939393939,-0.36363636363636365,-0.33333333333333326,-0.303030303030303,-0.2727272727272727,-0.24242424242424243,-0.21212121212121215,-0.18181818181818177,-0.1515151515151515,-0.12121212121212122,-0.09090909090909083,-0.06060606060606055,-0.030303030303030276,0.0,0.030303030303030276,0.06060606060606055,0.09090909090909083,0.12121212121212133,0.1515151515151516,0.18181818181818188,0.21212121212121215,0.24242424242424243,0.2727272727272727,0.303030303030303,0.3333333333333335,0.36363636363636376,0.39393939393939403,0.4242424242424243,0.4545454545454546,0.48484848484848486,0.5151515151515151,0.5454545454545454,0.5757575757575757,0.6060606060606062,0.6363636363636365,0.6666666666666667,0.696969696969697,0.7272727272727273,0.7575757575757576,0.7878787878787878,0.8181818181818183,0.8484848484848486,0.8787878787878789,0.9090909090909092,0.9393939393939394,0.9696969696969697,1.0,1.0303030303030303,1.0606060606060606,1.0909090909090908,1.121212121212121,1.1515151515151514,1.1818181818181817,1.2121212121212124,1.2424242424242427,1.272727272727273,1.3030303030303032,1.3333333333333335,1.3636363636363638,1.393939393939394,1.4242424242424243,1.4545454545454546,1.4848484848484849,1.5151515151515151,1.5454545454545454,1.5757575757575757,1.606060606060606,1.6363636363636362,1.666666666666667,1.6969696969696972,1.7272727272727275,1.7575757575757578,1.787878787878788,1.8181818181818183,1.8484848484848486,1.878787878787879,1.9090909090909092,1.9393939393939394,1.9696969696969697,2.0],\"xaxis\":\"x\",\"y\":[3.5,3.5757575757575757,3.6515151515151514,3.7272727272727275,3.803030303030303,3.878787878787879,3.9545454545454546,4.03030303030303,4.1060606060606055,4.181818181818182,4.257575757575758,4.333333333333334,4.409090909090909,4.484848484848484,4.5606060606060606,4.636363636363637,4.712121212121212,4.787878787878788,4.863636363636363,4.9393939393939394,5.015151515151516,5.090909090909091,5.166666666666667,5.242424242424242,5.318181818181818,5.393939393939394,5.46969696969697,5.545454545454546,5.621212121212121,5.696969696969697,5.772727272727273,5.848484848484849,5.924242424242424,6.0,6.075757575757576,6.151515151515151,6.227272727272727,6.303030303030304,6.378787878787879,6.454545454545455,6.53030303030303,6.606060606060606,6.681818181818182,6.757575757575758,6.833333333333334,6.909090909090909,6.984848484848485,7.0606060606060606,7.136363636363637,7.212121212121212,7.287878787878788,7.363636363636363,7.4393939393939394,7.515151515151516,7.590909090909092,7.666666666666667,7.742424242424242,7.818181818181818,7.8939393939393945,7.96969696969697,8.045454545454547,8.121212121212121,8.196969696969697,8.272727272727273,8.348484848484848,8.424242424242424,8.5,8.575757575757576,8.651515151515152,8.727272727272727,8.803030303030303,8.878787878787879,8.954545454545453,9.030303030303031,9.106060606060606,9.181818181818183,9.257575757575758,9.333333333333334,9.40909090909091,9.484848484848484,9.56060606060606,9.636363636363637,9.712121212121211,9.787878787878789,9.863636363636363,9.93939393939394,10.015151515151516,10.09090909090909,10.166666666666668,10.242424242424242,10.318181818181818,10.393939393939394,10.46969696969697,10.545454545454547,10.621212121212121,10.696969696969697,10.772727272727273,10.848484848484848,10.924242424242424,11.0],\"yaxis\":\"y\",\"type\":\"scatter\"},{\"hovertemplate\":\"label=Above<br>x=%{x}<br>y=%{y}<extra></extra>\",\"legendgroup\":\"Above\",\"marker\":{\"color\":\"#EF553B\",\"symbol\":\"circle\"},\"mode\":\"markers\",\"name\":\"Above\",\"orientation\":\"v\",\"showlegend\":true,\"x\":[0.2,0.6],\"xaxis\":\"x\",\"y\":[8.5,9.5],\"yaxis\":\"y\",\"type\":\"scatter\"},{\"hovertemplate\":\"label=Below<br>x=%{x}<br>y=%{y}<extra></extra>\",\"legendgroup\":\"Below\",\"marker\":{\"color\":\"#00cc96\",\"symbol\":\"circle\"},\"mode\":\"markers\",\"name\":\"Below\",\"orientation\":\"v\",\"showlegend\":true,\"x\":[0.2,0.6],\"xaxis\":\"x\",\"y\":[4.5,5.5],\"yaxis\":\"y\",\"type\":\"scatter\"}],                        {\"template\":{\"data\":{\"bar\":[{\"error_x\":{\"color\":\"#2a3f5f\"},\"error_y\":{\"color\":\"#2a3f5f\"},\"marker\":{\"line\":{\"color\":\"#E5ECF6\",\"width\":0.5},\"pattern\":{\"fillmode\":\"overlay\",\"size\":10,\"solidity\":0.2}},\"type\":\"bar\"}],\"barpolar\":[{\"marker\":{\"line\":{\"color\":\"#E5ECF6\",\"width\":0.5},\"pattern\":{\"fillmode\":\"overlay\",\"size\":10,\"solidity\":0.2}},\"type\":\"barpolar\"}],\"carpet\":[{\"aaxis\":{\"endlinecolor\":\"#2a3f5f\",\"gridcolor\":\"white\",\"linecolor\":\"white\",\"minorgridcolor\":\"white\",\"startlinecolor\":\"#2a3f5f\"},\"baxis\":{\"endlinecolor\":\"#2a3f5f\",\"gridcolor\":\"white\",\"linecolor\":\"white\",\"minorgridcolor\":\"white\",\"startlinecolor\":\"#2a3f5f\"},\"type\":\"carpet\"}],\"choropleth\":[{\"colorbar\":{\"outlinewidth\":0,\"ticks\":\"\"},\"type\":\"choropleth\"}],\"contour\":[{\"colorbar\":{\"outlinewidth\":0,\"ticks\":\"\"},\"colorscale\":[[0.0,\"#0d0887\"],[0.1111111111111111,\"#46039f\"],[0.2222222222222222,\"#7201a8\"],[0.3333333333333333,\"#9c179e\"],[0.4444444444444444,\"#bd3786\"],[0.5555555555555556,\"#d8576b\"],[0.6666666666666666,\"#ed7953\"],[0.7777777777777778,\"#fb9f3a\"],[0.8888888888888888,\"#fdca26\"],[1.0,\"#f0f921\"]],\"type\":\"contour\"}],\"contourcarpet\":[{\"colorbar\":{\"outlinewidth\":0,\"ticks\":\"\"},\"type\":\"contourcarpet\"}],\"heatmap\":[{\"colorbar\":{\"outlinewidth\":0,\"ticks\":\"\"},\"colorscale\":[[0.0,\"#0d0887\"],[0.1111111111111111,\"#46039f\"],[0.2222222222222222,\"#7201a8\"],[0.3333333333333333,\"#9c179e\"],[0.4444444444444444,\"#bd3786\"],[0.5555555555555556,\"#d8576b\"],[0.6666666666666666,\"#ed7953\"],[0.7777777777777778,\"#fb9f3a\"],[0.8888888888888888,\"#fdca26\"],[1.0,\"#f0f921\"]],\"type\":\"heatmap\"}],\"heatmapgl\":[{\"colorbar\":{\"outlinewidth\":0,\"ticks\":\"\"},\"colorscale\":[[0.0,\"#0d0887\"],[0.1111111111111111,\"#46039f\"],[0.2222222222222222,\"#7201a8\"],[0.3333333333333333,\"#9c179e\"],[0.4444444444444444,\"#bd3786\"],[0.5555555555555556,\"#d8576b\"],[0.6666666666666666,\"#ed7953\"],[0.7777777777777778,\"#fb9f3a\"],[0.8888888888888888,\"#fdca26\"],[1.0,\"#f0f921\"]],\"type\":\"heatmapgl\"}],\"histogram\":[{\"marker\":{\"pattern\":{\"fillmode\":\"overlay\",\"size\":10,\"solidity\":0.2}},\"type\":\"histogram\"}],\"histogram2d\":[{\"colorbar\":{\"outlinewidth\":0,\"ticks\":\"\"},\"colorscale\":[[0.0,\"#0d0887\"],[0.1111111111111111,\"#46039f\"],[0.2222222222222222,\"#7201a8\"],[0.3333333333333333,\"#9c179e\"],[0.4444444444444444,\"#bd3786\"],[0.5555555555555556,\"#d8576b\"],[0.6666666666666666,\"#ed7953\"],[0.7777777777777778,\"#fb9f3a\"],[0.8888888888888888,\"#fdca26\"],[1.0,\"#f0f921\"]],\"type\":\"histogram2d\"}],\"histogram2dcontour\":[{\"colorbar\":{\"outlinewidth\":0,\"ticks\":\"\"},\"colorscale\":[[0.0,\"#0d0887\"],[0.1111111111111111,\"#46039f\"],[0.2222222222222222,\"#7201a8\"],[0.3333333333333333,\"#9c179e\"],[0.4444444444444444,\"#bd3786\"],[0.5555555555555556,\"#d8576b\"],[0.6666666666666666,\"#ed7953\"],[0.7777777777777778,\"#fb9f3a\"],[0.8888888888888888,\"#fdca26\"],[1.0,\"#f0f921\"]],\"type\":\"histogram2dcontour\"}],\"mesh3d\":[{\"colorbar\":{\"outlinewidth\":0,\"ticks\":\"\"},\"type\":\"mesh3d\"}],\"parcoords\":[{\"line\":{\"colorbar\":{\"outlinewidth\":0,\"ticks\":\"\"}},\"type\":\"parcoords\"}],\"pie\":[{\"automargin\":true,\"type\":\"pie\"}],\"scatter\":[{\"marker\":{\"colorbar\":{\"outlinewidth\":0,\"ticks\":\"\"}},\"type\":\"scatter\"}],\"scatter3d\":[{\"line\":{\"colorbar\":{\"outlinewidth\":0,\"ticks\":\"\"}},\"marker\":{\"colorbar\":{\"outlinewidth\":0,\"ticks\":\"\"}},\"type\":\"scatter3d\"}],\"scattercarpet\":[{\"marker\":{\"colorbar\":{\"outlinewidth\":0,\"ticks\":\"\"}},\"type\":\"scattercarpet\"}],\"scattergeo\":[{\"marker\":{\"colorbar\":{\"outlinewidth\":0,\"ticks\":\"\"}},\"type\":\"scattergeo\"}],\"scattergl\":[{\"marker\":{\"colorbar\":{\"outlinewidth\":0,\"ticks\":\"\"}},\"type\":\"scattergl\"}],\"scattermapbox\":[{\"marker\":{\"colorbar\":{\"outlinewidth\":0,\"ticks\":\"\"}},\"type\":\"scattermapbox\"}],\"scatterpolar\":[{\"marker\":{\"colorbar\":{\"outlinewidth\":0,\"ticks\":\"\"}},\"type\":\"scatterpolar\"}],\"scatterpolargl\":[{\"marker\":{\"colorbar\":{\"outlinewidth\":0,\"ticks\":\"\"}},\"type\":\"scatterpolargl\"}],\"scatterternary\":[{\"marker\":{\"colorbar\":{\"outlinewidth\":0,\"ticks\":\"\"}},\"type\":\"scatterternary\"}],\"surface\":[{\"colorbar\":{\"outlinewidth\":0,\"ticks\":\"\"},\"colorscale\":[[0.0,\"#0d0887\"],[0.1111111111111111,\"#46039f\"],[0.2222222222222222,\"#7201a8\"],[0.3333333333333333,\"#9c179e\"],[0.4444444444444444,\"#bd3786\"],[0.5555555555555556,\"#d8576b\"],[0.6666666666666666,\"#ed7953\"],[0.7777777777777778,\"#fb9f3a\"],[0.8888888888888888,\"#fdca26\"],[1.0,\"#f0f921\"]],\"type\":\"surface\"}],\"table\":[{\"cells\":{\"fill\":{\"color\":\"#EBF0F8\"},\"line\":{\"color\":\"white\"}},\"header\":{\"fill\":{\"color\":\"#C8D4E3\"},\"line\":{\"color\":\"white\"}},\"type\":\"table\"}]},\"layout\":{\"annotationdefaults\":{\"arrowcolor\":\"#2a3f5f\",\"arrowhead\":0,\"arrowwidth\":1},\"autotypenumbers\":\"strict\",\"coloraxis\":{\"colorbar\":{\"outlinewidth\":0,\"ticks\":\"\"}},\"colorscale\":{\"diverging\":[[0,\"#8e0152\"],[0.1,\"#c51b7d\"],[0.2,\"#de77ae\"],[0.3,\"#f1b6da\"],[0.4,\"#fde0ef\"],[0.5,\"#f7f7f7\"],[0.6,\"#e6f5d0\"],[0.7,\"#b8e186\"],[0.8,\"#7fbc41\"],[0.9,\"#4d9221\"],[1,\"#276419\"]],\"sequential\":[[0.0,\"#0d0887\"],[0.1111111111111111,\"#46039f\"],[0.2222222222222222,\"#7201a8\"],[0.3333333333333333,\"#9c179e\"],[0.4444444444444444,\"#bd3786\"],[0.5555555555555556,\"#d8576b\"],[0.6666666666666666,\"#ed7953\"],[0.7777777777777778,\"#fb9f3a\"],[0.8888888888888888,\"#fdca26\"],[1.0,\"#f0f921\"]],\"sequentialminus\":[[0.0,\"#0d0887\"],[0.1111111111111111,\"#46039f\"],[0.2222222222222222,\"#7201a8\"],[0.3333333333333333,\"#9c179e\"],[0.4444444444444444,\"#bd3786\"],[0.5555555555555556,\"#d8576b\"],[0.6666666666666666,\"#ed7953\"],[0.7777777777777778,\"#fb9f3a\"],[0.8888888888888888,\"#fdca26\"],[1.0,\"#f0f921\"]]},\"colorway\":[\"#636efa\",\"#EF553B\",\"#00cc96\",\"#ab63fa\",\"#FFA15A\",\"#19d3f3\",\"#FF6692\",\"#B6E880\",\"#FF97FF\",\"#FECB52\"],\"font\":{\"color\":\"#2a3f5f\"},\"geo\":{\"bgcolor\":\"white\",\"lakecolor\":\"white\",\"landcolor\":\"#E5ECF6\",\"showlakes\":true,\"showland\":true,\"subunitcolor\":\"white\"},\"hoverlabel\":{\"align\":\"left\"},\"hovermode\":\"closest\",\"mapbox\":{\"style\":\"light\"},\"paper_bgcolor\":\"white\",\"plot_bgcolor\":\"#E5ECF6\",\"polar\":{\"angularaxis\":{\"gridcolor\":\"white\",\"linecolor\":\"white\",\"ticks\":\"\"},\"bgcolor\":\"#E5ECF6\",\"radialaxis\":{\"gridcolor\":\"white\",\"linecolor\":\"white\",\"ticks\":\"\"}},\"scene\":{\"xaxis\":{\"backgroundcolor\":\"#E5ECF6\",\"gridcolor\":\"white\",\"gridwidth\":2,\"linecolor\":\"white\",\"showbackground\":true,\"ticks\":\"\",\"zerolinecolor\":\"white\"},\"yaxis\":{\"backgroundcolor\":\"#E5ECF6\",\"gridcolor\":\"white\",\"gridwidth\":2,\"linecolor\":\"white\",\"showbackground\":true,\"ticks\":\"\",\"zerolinecolor\":\"white\"},\"zaxis\":{\"backgroundcolor\":\"#E5ECF6\",\"gridcolor\":\"white\",\"gridwidth\":2,\"linecolor\":\"white\",\"showbackground\":true,\"ticks\":\"\",\"zerolinecolor\":\"white\"}},\"shapedefaults\":{\"line\":{\"color\":\"#2a3f5f\"}},\"ternary\":{\"aaxis\":{\"gridcolor\":\"white\",\"linecolor\":\"white\",\"ticks\":\"\"},\"baxis\":{\"gridcolor\":\"white\",\"linecolor\":\"white\",\"ticks\":\"\"},\"bgcolor\":\"#E5ECF6\",\"caxis\":{\"gridcolor\":\"white\",\"linecolor\":\"white\",\"ticks\":\"\"}},\"title\":{\"x\":0.05},\"xaxis\":{\"automargin\":true,\"gridcolor\":\"white\",\"linecolor\":\"white\",\"ticks\":\"\",\"title\":{\"standoff\":15},\"zerolinecolor\":\"white\",\"zerolinewidth\":2},\"yaxis\":{\"automargin\":true,\"gridcolor\":\"white\",\"linecolor\":\"white\",\"ticks\":\"\",\"title\":{\"standoff\":15},\"zerolinecolor\":\"white\",\"zerolinewidth\":2}}},\"xaxis\":{\"anchor\":\"y\",\"domain\":[0.0,1.0],\"title\":{\"text\":\"x\"}},\"yaxis\":{\"anchor\":\"x\",\"domain\":[0.0,1.0],\"title\":{\"text\":\"y\"}},\"legend\":{\"title\":{\"text\":\"label\"},\"tracegroupgap\":0},\"margin\":{\"t\":60}},                        {\"responsive\": true}                    ).then(function(){\n",
       "                            \n",
       "var gd = document.getElementById('6bdfdc3f-f07f-4e64-9e2c-ae68836e394f');\n",
       "var x = new MutationObserver(function (mutations, observer) {{\n",
       "        var display = window.getComputedStyle(gd).display;\n",
       "        if (!display || display === 'none') {{\n",
       "            console.log([gd, 'removed!']);\n",
       "            Plotly.purge(gd);\n",
       "            observer.disconnect();\n",
       "        }}\n",
       "}});\n",
       "\n",
       "// Listen for the removal of the full notebook cells\n",
       "var notebookContainer = gd.closest('#notebook-container');\n",
       "if (notebookContainer) {{\n",
       "    x.observe(notebookContainer, {childList: true});\n",
       "}}\n",
       "\n",
       "// Listen for the clearing of the current output cell\n",
       "var outputEl = gd.closest('.output');\n",
       "if (outputEl) {{\n",
       "    x.observe(outputEl, {childList: true});\n",
       "}}\n",
       "\n",
       "                        })                };                });            </script>        </div>"
      ]
     },
     "metadata": {},
     "output_type": "display_data"
    }
   ],
   "source": [
    "px.scatter(data, x='x', y='y', color = 'label')"
   ]
  },
  {
   "cell_type": "markdown",
   "id": "0f4d2955-d323-4351-b216-c3f547c34e3d",
   "metadata": {},
   "source": [
    "## Fitting and Overfiting "
   ]
  },
  {
   "cell_type": "markdown",
   "id": "2d1e502f-4b12-4bf1-a981-7135b36e0830",
   "metadata": {},
   "source": [
    "The goal of the following exercise is to observe overfitting causes:\n",
    "* Overfitting due to insuffient data\n",
    "* Overfitting due to overly complex model\n",
    "\n",
    "\n",
    "For each below dataset:\n",
    "* Create data of size N with noise level of magnitude NL. \n",
    "* Split it to training and testing data\n",
    "* Choose a complex model of your choice: [KNN](https://scikit-learn.org/stable/modules/generated/sklearn.neighbors.KNeighborsClassifier.html), [SVM with RBF kernel](https://scikit-learn.org/stable/modules/svm.html) with different `gamma` values or [Random forest classifier](https://scikit-learn.org/stable/modules/generated/sklearn.ensemble.RandomForestClassifier.html) with differnt number of `min_samples_split`. \n",
    "* Train on the train test for different hyper parameter values. compute:\n",
    "  * Classification accuracy on the training set (TRE)\n",
    "  * Classification accuracy on the testing set (TESTE)\n",
    "  * The difference beteen the two above (E_DIFF)\n",
    "* Save N, NL, TRE, TESTE, E_DIFF and the regularization param (K, gamma or min_samples_split)\n",
    "\n",
    "Repeat for N in range 50 to 10000 and NL in range 0 to 0.5. Create a proper dataframe from the results and analyze:\n",
    "1. For a given noise level of your chioce, How does the train, test and difference error changes with increasing data sizes? \n",
    "1. For a given noise level of your chioce, How does the train, test and difference error changes with increasing model complexity? \n",
    "1. Select the best model param to fit the data (The one minimizing the test error) and for it, observe the number of data points needed for optimal test results in different noise levels."
   ]
  },
  {
   "cell_type": "markdown",
   "id": "bf6a6804-6f55-4d06-8a72-cf348dfc6d04",
   "metadata": {},
   "source": [
    "## Fitting and Overfiting - answer"
   ]
  },
  {
   "cell_type": "markdown",
   "id": "6682dc70-3c72-4d4b-a59f-b81bf89cad7f",
   "metadata": {},
   "source": [
    "datasets to create:\n",
    " N=   5, 10, 50, 100, 1000, 10000\n",
    " NL=  0, 0.1, 0.2, 0.3, 0.4"
   ]
  },
  {
   "cell_type": "markdown",
   "id": "a6870ba6-7e4e-4af0-9081-27470cf07366",
   "metadata": {},
   "source": [
    "### importing libraries"
   ]
  },
  {
   "cell_type": "code",
   "execution_count": 203,
   "id": "d47cdb97-bde3-4e4b-ac84-faf80a8784b5",
   "metadata": {},
   "outputs": [],
   "source": [
    "#Importing required libraries\n",
    "from sklearn.datasets import make_moons, make_circles\n",
    "from src.modeling_util import *\n",
    "from sklearn import svm\n",
    "from sklearn.model_selection import *\n",
    "#from sklearn.model_selection import train_test_split, KFold, cross_val_score, StratifiedKFold, cross_validate\n",
    "from sklearn.metrics import accuracy_score\n",
    "from sklearn.linear_model import LogisticRegression\n",
    "import statistics\n",
    "import ipywidgets as widgets\n",
    "from scipy.stats import gmean"
   ]
  },
  {
   "cell_type": "markdown",
   "id": "0dbf2d67-45c0-42bf-a764-d5662af36a80",
   "metadata": {},
   "source": [
    "### Datasets creation and modeling"
   ]
  },
  {
   "cell_type": "code",
   "execution_count": 204,
   "id": "a06d51ff-cf2e-4b79-aded-d5cd740daa31",
   "metadata": {},
   "outputs": [],
   "source": [
    "#run fully with ds creation and modeling or just retrive data from file (only analysis)\n",
    "#default is False\n",
    "run_ds_and_models = False\n",
    "file_2_bu = \"rdata_df_apr_17.csv\"\n",
    "file_retrieve_from = \"rdata_df_apr_15.csv\"\n",
    "\n",
    "#diff variables to loop on:\n",
    "C_range =  [0.001, 0.01, 0.1, 1, 10, 100, 1000] \n",
    "regulation_method = 'l2'\n",
    "Gamma_range = [0.001, 0.005, 0.01, 0.05, 0.1, 0.5, 1, 5, 10, 50, 1000] #added 1000\n",
    "svm_kernel = 'rbf' \n",
    "k_folds = 10  #cross validation kfold \n",
    "classifiers = ['logistic', 'svm']\n",
    "n_samples = [5, 10, 50, 100, 1000, 10000]\n",
    "noise_lvl = [0, 0.1, 0.2, 0.3, 0.4, 0.5] \n",
    "data_types = ['circles', 'moons']\n",
    "#constants\n",
    "#train_test_por = 0.2\n",
    "#rndm_seed = 42\n",
    "#loop util vars\n",
    "iter_count = 0\n",
    "rdata_lst = []"
   ]
  },
  {
   "cell_type": "code",
   "execution_count": 205,
   "id": "26c2aa86-aba7-4004-bb4c-d11369770e7c",
   "metadata": {},
   "outputs": [],
   "source": [
    "##############################################################\n",
    "##### main loop - running thru all options and collecting data\n",
    "##############################################################\n",
    "if run_ds_and_models:\n",
    "    for n in n_samples:\n",
    "        for nl in noise_lvl:\n",
    "            for data_type in data_types:\n",
    "                df = creat_dataset(n_smpl_size=n, noise_lvl=nl, type=data_type)\n",
    "                #using all data for train and val #un-comment below to split\n",
    "                #train, test = train_test_split(df, test_size=train_test_por, random_state=rndm_seed)\n",
    "                print(f'Cross validation for {data_type} dataset with {n} samples and noise level {nl}')\n",
    "                if n < k_folds:           #is num of samples smaller than k_fold use n\n",
    "                    kf = KFold(n_splits=n)\n",
    "                else:\n",
    "                    kf = KFold(n_splits=k_folds)           #no shuffling \n",
    "                #kf = StratifiedKFold(n_splits=k) #no shuffling \n",
    "                acc_score = []         #to keep a list of all cross val scores\n",
    "                for clf_type in classifiers:\n",
    "                    #flow for svm model\n",
    "                    if clf_type == 'svm':\n",
    "                        #print(f'Going to train: {clf_type}')\n",
    "                        for Gamma in Gamma_range:\n",
    "                            #print(f'gamma: {Gamma}')\n",
    "                            svm_clf = svm.SVC(kernel=svm_kernel, gamma=Gamma)\n",
    "                            #using all data for train and val #un-comment below to split\n",
    "                            #X = train.iloc[:,:-1] #without label\n",
    "                            #y = train.iloc[:,-1]  #only label\n",
    "                            X = df.iloc[:,:-1] #without label\n",
    "                            y = df.iloc[:,-1]  #only label\n",
    "                            cv_results = cross_validate(svm_clf, X, y, cv = kf, return_train_score=True)\n",
    "                            #obtain train scores\n",
    "                            TRE = sum(cv_results['train_score'])/k_folds\n",
    "                            TRE_STD = statistics.pstdev(cv_results['train_score'])\n",
    "                            TRE_VAR = statistics.pvariance(cv_results['train_score'])\n",
    "                            #obtain test scores\n",
    "                            TESTE = sum(cv_results['test_score'])/k_folds\n",
    "                            TESTE_STD = statistics.pstdev(cv_results['test_score'])\n",
    "                            TESTE_VAR = statistics.pvariance(cv_results['test_score'])\n",
    "                            E_DIFF = TRE - TESTE\n",
    "                            #debug print - TODO comment\n",
    "                            #print(f'{TRE:.2f}, {TRE_STD:.2f}, {TESTE:.2f}, {TESTE_STD:.2f}, {E_DIFF:.2f}')\n",
    "                            #collect the data \n",
    "                            iter_dic = {}\n",
    "                            iter_dic.update({\"n\": n, \"noise_lvl\": nl, \"data_type\": data_type, \"model\": clf_type,\n",
    "                                             \"TRE\": TRE, \"TRE_STD\": TRE_STD, \"TESTE\": TESTE,\n",
    "                                             \"TESTE_STD\": TESTE_STD, \"E_DIFF\": E_DIFF, \"model_param\": Gamma})\n",
    "                                            #model_param is gamma\n",
    "                            rdata_lst.append(iter_dic)\n",
    "                    #flow for logistic regression\n",
    "                    if clf_type == 'logistic':\n",
    "                        #print(f'Going to train {clf_type}')\n",
    "                        for C in C_range:\n",
    "                            log_reg = LogisticRegression(penalty=regulation_method, C=C)\n",
    "                            #using all data for train and val #un-comment below to split\n",
    "                            #X = train.iloc[:,:-1] #without label\n",
    "                            #y = train.iloc[:,-1]  #only label\n",
    "                            X = df.iloc[:,:-1] #without label\n",
    "                            y = df.iloc[:,-1]  #only label\n",
    "                            cv_results = cross_validate(log_reg, X, y, cv = kf, return_train_score=True)\n",
    "                            #obtain train scores\n",
    "                            TRE = sum(cv_results['train_score'])/k_folds\n",
    "                            TRE_STD = statistics.stdev(cv_results['train_score'])\n",
    "                            TRE_VAR = statistics.variance(cv_results['train_score'])\n",
    "                            #obtain test scores\n",
    "                            TESTE = sum(cv_results['test_score'])/k_folds\n",
    "                            TESTE_STD = statistics.stdev(cv_results['test_score'])\n",
    "                            TESTE_VAR = statistics.variance(cv_results['test_score'])\n",
    "                            E_DIFF = TRE - TESTE\n",
    "                            #debug print - TODO comment\n",
    "                            #print(f'{TRE:.2f}, {TRE_STD:.2f}, {TESTE:.2f}, {TESTE_STD:.2f}, {E_DIFF:.2f}')\n",
    "                            #collect the data \n",
    "                            iter_dic = {}\n",
    "                            iter_dic.update({\"n\": n, \"noise_lvl\": nl, \"data_type\": data_type, \"model\": clf_type,\n",
    "                                             \"TRE\": TRE, \"TRE_STD\": TRE_STD, \"TESTE\": TESTE, \"TRE_VAR\": TRE_VAR,\n",
    "                                             \"TESTE_STD\": TESTE_STD, \"TESTE_VAR\": TESTE_VAR, \"E_DIFF\": E_DIFF, \"model_param\": C})\n",
    "                                            #model_param is C\n",
    "                            rdata_lst.append(iter_dic)\n",
    "\n",
    "    #end of -> for n in n_samples:\n",
    "    #results list of dict into a dataframe\n",
    "    rdata_df = pd.DataFrame.from_dict(rdata_lst)\n",
    "#end of -> if run_ds_and_models:"
   ]
  },
  {
   "cell_type": "markdown",
   "id": "d2076325-254c-4ae5-9175-f652a7f13822",
   "metadata": {},
   "source": [
    "### Data backup or retrieve data from file"
   ]
  },
  {
   "cell_type": "code",
   "execution_count": 206,
   "id": "946849dc-0eba-4555-b481-e8f837aa1206",
   "metadata": {},
   "outputs": [],
   "source": [
    "#data created so backup or data not created and retrive data from file to work on\n",
    "if run_ds_and_models:\n",
    "    #backup results data to csv\n",
    "    rdata_df.to_csv(file_2_bu)\n",
    "else:\n",
    "    #retreive backup results from csv\n",
    "    rdata_df = pd.read_csv(file_retrieve_from) \n",
    "    #notes on bu files - april_6 does NOT have nl=0.5, kfold=10; april_9 has nl=0.5, kfold=10;\n",
    "    # april_14: kfold=5, gamma_range added 1000; april_15: kfold=10; april_17 moved to statistics.stdev, variance\n",
    "    # note - the data creation is done with random_state=None so we see slightly different results on diff runs\n",
    "    "
   ]
  },
  {
   "cell_type": "code",
   "execution_count": 207,
   "id": "549de6db-dcb2-46bb-b217-a202d528ba99",
   "metadata": {},
   "outputs": [
    {
     "data": {
      "text/html": [
       "<div>\n",
       "<style scoped>\n",
       "    .dataframe tbody tr th:only-of-type {\n",
       "        vertical-align: middle;\n",
       "    }\n",
       "\n",
       "    .dataframe tbody tr th {\n",
       "        vertical-align: top;\n",
       "    }\n",
       "\n",
       "    .dataframe thead th {\n",
       "        text-align: right;\n",
       "    }\n",
       "</style>\n",
       "<table border=\"1\" class=\"dataframe\">\n",
       "  <thead>\n",
       "    <tr style=\"text-align: right;\">\n",
       "      <th></th>\n",
       "      <th>Unnamed: 0</th>\n",
       "      <th>n</th>\n",
       "      <th>noise_lvl</th>\n",
       "      <th>data_type</th>\n",
       "      <th>model</th>\n",
       "      <th>TRE</th>\n",
       "      <th>TRE_STD</th>\n",
       "      <th>TESTE</th>\n",
       "      <th>TRE_VAR</th>\n",
       "      <th>TESTE_STD</th>\n",
       "      <th>TESTE_VAR</th>\n",
       "      <th>E_DIFF</th>\n",
       "      <th>model_param</th>\n",
       "    </tr>\n",
       "  </thead>\n",
       "  <tbody>\n",
       "    <tr>\n",
       "      <th>784</th>\n",
       "      <td>784</td>\n",
       "      <td>100</td>\n",
       "      <td>0.3</td>\n",
       "      <td>moons</td>\n",
       "      <td>svm</td>\n",
       "      <td>0.804444</td>\n",
       "      <td>0.011331</td>\n",
       "      <td>0.780</td>\n",
       "      <td>NaN</td>\n",
       "      <td>0.107703</td>\n",
       "      <td>NaN</td>\n",
       "      <td>0.024444</td>\n",
       "      <td>0.050</td>\n",
       "    </tr>\n",
       "    <tr>\n",
       "      <th>931</th>\n",
       "      <td>931</td>\n",
       "      <td>1000</td>\n",
       "      <td>0.1</td>\n",
       "      <td>moons</td>\n",
       "      <td>svm</td>\n",
       "      <td>0.999889</td>\n",
       "      <td>0.000333</td>\n",
       "      <td>1.000</td>\n",
       "      <td>NaN</td>\n",
       "      <td>0.000000</td>\n",
       "      <td>NaN</td>\n",
       "      <td>-0.000111</td>\n",
       "      <td>1.000</td>\n",
       "    </tr>\n",
       "    <tr>\n",
       "      <th>944</th>\n",
       "      <td>944</td>\n",
       "      <td>1000</td>\n",
       "      <td>0.2</td>\n",
       "      <td>circles</td>\n",
       "      <td>svm</td>\n",
       "      <td>0.503556</td>\n",
       "      <td>0.002424</td>\n",
       "      <td>0.468</td>\n",
       "      <td>NaN</td>\n",
       "      <td>0.021817</td>\n",
       "      <td>NaN</td>\n",
       "      <td>0.035556</td>\n",
       "      <td>0.005</td>\n",
       "    </tr>\n",
       "    <tr>\n",
       "      <th>138</th>\n",
       "      <td>138</td>\n",
       "      <td>5</td>\n",
       "      <td>0.3</td>\n",
       "      <td>moons</td>\n",
       "      <td>svm</td>\n",
       "      <td>0.400000</td>\n",
       "      <td>0.100000</td>\n",
       "      <td>0.100</td>\n",
       "      <td>NaN</td>\n",
       "      <td>0.400000</td>\n",
       "      <td>NaN</td>\n",
       "      <td>0.300000</td>\n",
       "      <td>0.500</td>\n",
       "    </tr>\n",
       "  </tbody>\n",
       "</table>\n",
       "</div>"
      ],
      "text/plain": [
       "     Unnamed: 0     n  noise_lvl data_type model       TRE   TRE_STD  TESTE  \\\n",
       "784         784   100        0.3     moons   svm  0.804444  0.011331  0.780   \n",
       "931         931  1000        0.1     moons   svm  0.999889  0.000333  1.000   \n",
       "944         944  1000        0.2   circles   svm  0.503556  0.002424  0.468   \n",
       "138         138     5        0.3     moons   svm  0.400000  0.100000  0.100   \n",
       "\n",
       "     TRE_VAR  TESTE_STD  TESTE_VAR    E_DIFF  model_param  \n",
       "784      NaN   0.107703        NaN  0.024444        0.050  \n",
       "931      NaN   0.000000        NaN -0.000111        1.000  \n",
       "944      NaN   0.021817        NaN  0.035556        0.005  \n",
       "138      NaN   0.400000        NaN  0.300000        0.500  "
      ]
     },
     "execution_count": 207,
     "metadata": {},
     "output_type": "execute_result"
    }
   ],
   "source": [
    "rdata_df.sample(4)"
   ]
  },
  {
   "cell_type": "code",
   "execution_count": 208,
   "id": "a5d2a779-c886-4d70-9c69-65ff1020cafd",
   "metadata": {},
   "outputs": [
    {
     "data": {
      "text/plain": [
       "(1296, 13)"
      ]
     },
     "execution_count": 208,
     "metadata": {},
     "output_type": "execute_result"
    }
   ],
   "source": [
    "#dimenstions of the results\n",
    "rdata_df.shape"
   ]
  },
  {
   "cell_type": "markdown",
   "id": "7d4735e8-1f22-4531-9bad-3ca94ace21c6",
   "metadata": {},
   "source": [
    "### Defining the Widgets"
   ]
  },
  {
   "cell_type": "code",
   "execution_count": 209,
   "id": "048f16f7-aa29-4d2e-ae4f-fb9c29c0101a",
   "metadata": {},
   "outputs": [],
   "source": [
    "#defining the widgets\n",
    "import ipywidgets as widgets\n",
    "n_wid = widgets.Dropdown(options=n_samples, value=n_samples[-1], description='n:',disabled=False,)\n",
    "model_wid = widgets.Dropdown(options=classifiers, value=classifiers[-1], description='model:',disabled=False,)\n",
    "nl_wid = widgets.Dropdown(options=noise_lvl, value=noise_lvl[-2], description='noise:',disabled=False,)\n",
    "data_wid = widgets.Dropdown(options=data_types, value=data_types[-1], description='data type:',disabled=False,)\n",
    "gamma_wid = widgets.Dropdown(options=Gamma_range, value=Gamma_range[3], description='gamma values:',disabled=False,)\n",
    "log_C_wid = widgets.Dropdown(options=C_range, value=C_range[2], description='Logistic C values:',disabled=False,)"
   ]
  },
  {
   "cell_type": "markdown",
   "id": "3e06e25c-9528-46f0-b039-585832de370b",
   "metadata": {},
   "source": [
    "### Answer to Q1"
   ]
  },
  {
   "cell_type": "code",
   "execution_count": 210,
   "id": "3b29a6eb-e26c-4aab-9e07-f9495afbc24d",
   "metadata": {},
   "outputs": [],
   "source": [
    "# Q1 - For SVM only, For dataset of size 10k and for each dataset, What are the best model params? How stable is it?"
   ]
  },
  {
   "cell_type": "code",
   "execution_count": 211,
   "id": "e5749165-312a-4fa8-8926-62f568db5df8",
   "metadata": {},
   "outputs": [],
   "source": [
    "############# remove when data has it in the loops (build-in)\n",
    "rdata_df['TRE_VAR'] = rdata_df['TRE_STD'].apply(lambda x: x*x)\n",
    "rdata_df['TESTE_VAR'] = rdata_df['TESTE_STD'].apply(lambda x: x*x)"
   ]
  },
  {
   "cell_type": "code",
   "execution_count": 212,
   "id": "62dfa23a-15cd-4dec-a733-3a4826c4304f",
   "metadata": {},
   "outputs": [
    {
     "data": {
      "application/vnd.jupyter.widget-view+json": {
       "model_id": "61e13d246d8f495a8594edc9c357c017",
       "version_major": 2,
       "version_minor": 0
      },
      "text/plain": [
       "interactive(children=(Dropdown(description='data type:', index=1, options=('circles', 'moons'), value='moons')…"
      ]
     },
     "metadata": {},
     "output_type": "display_data"
    }
   ],
   "source": [
    "@widgets.interact\n",
    "#plotting accuracy kfold mean by hyperparameter (combined diff noise levels)    \n",
    "def show_acc_vs_gamma(data_type=data_wid):\n",
    "    # only for svm and 10k n sample size\n",
    "    cmodel = \"svm\"\n",
    "    cn = 10000\n",
    "    fig, gamma_max, acc_max, gamma_max_std = plot_acc_vs_gamma(rdata_df, cmodel, cn, data_type)\n",
    "    fig.show()\n",
    "    print(f'for {data_type} data: Maximum Accuracy achieved by gamma= {gamma_max} with: acc= {acc_max:.2f} std= {gamma_max_std:.3f}')\n",
    "    print()\n",
    "    display(df_acc_vs_gamma(rdata_df, cmodel, cn, data_type))\n",
    "    return"
   ]
  },
  {
   "cell_type": "code",
   "execution_count": 213,
   "id": "e2234f4c-06f1-498d-8818-4200bcc6fc49",
   "metadata": {},
   "outputs": [],
   "source": [
    "# For circles data-type - we can see that the 'best' model parameter (high prediction accuracy; gamma for svm/rbf) has \n",
    "# gamma=0.1 - 1 (depending on diff data creation runs) - so, with regards to 'close' vs 'far' gamma influence  or complexity\n",
    "# vs the other gamma values - it is quite in the middle range of gamma values) - the terminology to use -> low bias. \n",
    "# We also see it is stable, with low variance (compared to other models) - In general what we desire when choosing hyperparameter \n",
    "# (low bias and low variance) - more in Q2 answer.\n",
    "# what we see also in different runs of the data creation and modeling - around gamma 0.05 untill gamma 10 we get an increase and \n",
    "# reach good accuracy of test accuracy (TESTE) but then afterwards on gamma 50 and 1000 (on more complex fits) we see \n",
    "# degradation of the prediction accuracy.\n",
    "#\n",
    "# For moons data-type - we see a similar picture with gamma=5 or gamma=10 for other runs -> low bias and low variance\n",
    "# we also see the same behavior pattern - accuracy starts to increase in around gamma 0.05 untill gamma 0.5 where we reach good \n",
    "# accuracy of TESTE. this good accuracy is seen throught until gamma 10 but then afterwards on gamma 50 and 1000 we see back \n",
    "# a degradation of the prediction accuracy (overfitting - more in answer to Q5)\n",
    "#\n",
    "# note - used data april 14, april 15"
   ]
  },
  {
   "cell_type": "markdown",
   "id": "3ecda9b8-c773-4351-8e1c-d1fa0b09653e",
   "metadata": {},
   "source": [
    "### Answer to Q2"
   ]
  },
  {
   "cell_type": "code",
   "execution_count": 214,
   "id": "04e54c29-377e-4d39-bdf6-46a315e47c7b",
   "metadata": {},
   "outputs": [],
   "source": [
    "#Q2 - For SVM only, For dataset of size 10k and for each dataset, What is the most stable model and model params? \n",
    "#     How good is it in comparison to other models? Explain using bias and variance terminoligy."
   ]
  },
  {
   "cell_type": "code",
   "execution_count": 215,
   "id": "e376c551-e96a-4cf9-99ba-e40199dfeb5c",
   "metadata": {},
   "outputs": [
    {
     "data": {
      "application/vnd.jupyter.widget-view+json": {
       "model_id": "4621a53a95354d8798b662ac00b4c782",
       "version_major": 2,
       "version_minor": 0
      },
      "text/plain": [
       "interactive(children=(Dropdown(description='data type:', index=1, options=('circles', 'moons'), value='moons')…"
      ]
     },
     "metadata": {},
     "output_type": "display_data"
    }
   ],
   "source": [
    "@widgets.interact\n",
    "#plotting accuracy kfold std (and mean) by hyperparameter (combined diff noise levels)       \n",
    "def show_std_vs_gamma(data_type=data_wid):\n",
    "    # only for svm and 10k n sample size\n",
    "    cmodel = \"svm\"\n",
    "    cn = 10000\n",
    "    fig, gamma_min_std, std_min, acc_std_min = plot_std_vs_gamma(rdata_df, cmodel, cn, data_type)\n",
    "    fig.show()\n",
    "    print(f'for {data_type} data: Minimum Accuracy STD achieved by gamma= {gamma_min_std} with: std= {std_min:.3f} acc= {acc_std_min:.2f} ')\n",
    "    print()\n",
    "    return"
   ]
  },
  {
   "cell_type": "code",
   "execution_count": 216,
   "id": "de8c7437-d003-4262-b211-2d020c9f78ee",
   "metadata": {},
   "outputs": [],
   "source": [
    "# For circles data-type - we can see that the most stable (lowest std) parameter (gamma for svm/rbf) has gamma=0.001 \n",
    "# (aka very 'far' influence or low complexity vs the other gamma values) the terminology we use: it has low variance. \n",
    "# on the other hand the accuracy of prediction is not good (actually the worst) relativley to the other gamma values - aka \n",
    "# it has high bias. The goal of any supervised machine learning algorithm is to achieve low bias and low variance. So, when \n",
    "# choosing the best model parameter we need to balance out bias and variance (Bias-Variance Trade-Off). Here (in circles data-type, \n",
    "# 10k samples, svm/rbf model) using gamma=0.001 will NOT be a good value to choose - since the bias is very high (will not accuratilty\n",
    "# predict). We will choose a slightly less stable model (a bit higher variance) but will achieve high accuracy (low bias) \n",
    "# - like gamma=1 or 10 for example\n",
    "#\n",
    "# For moons data-type - we see a different picture. we see that the most stable gamma has gamma=0.5 (aka mid range 'far'-'close'\n",
    "# influence or mid complexity) - has low variance. Nevertheless here, we see it has low bias - quite good accuracy. here we do not \n",
    "# encounter this Bias-Variance Trade-Off dilema as we have both low variance and low bias. I assume this might have to do with the\n",
    "# specific c value we chose (arbitrary) for this expirement (I assume we need different c values to explore it further)\n",
    "#\n",
    "#sources: \n",
    "# https://scikit-learn.org/stable/auto_examples/svm/plot_rbf_parameters.html\n",
    "# https://machinelearningmastery.com/gentle-introduction-to-the-bias-variance-trade-off-in-machine-learning/"
   ]
  },
  {
   "cell_type": "markdown",
   "id": "efd60526-bb3b-4162-9637-051d9fcde129",
   "metadata": {},
   "source": [
    "### Answer to Q3"
   ]
  },
  {
   "cell_type": "code",
   "execution_count": 217,
   "id": "bae90f9b-0187-4938-93ea-353bd1ee6084",
   "metadata": {},
   "outputs": [],
   "source": [
    "# Q3 - Does regularization help for linear models? consider different datasets sizes."
   ]
  },
  {
   "cell_type": "code",
   "execution_count": 218,
   "id": "e750b01d-e5fd-407f-916e-8e1ad2b6bfcd",
   "metadata": {},
   "outputs": [
    {
     "data": {
      "application/vnd.jupyter.widget-view+json": {
       "model_id": "457de958cb014ae69d81ffbb290ec16b",
       "version_major": 2,
       "version_minor": 0
      },
      "text/plain": [
       "interactive(children=(Dropdown(description='data type:', index=1, options=('circles', 'moons'), value='moons')…"
      ]
     },
     "metadata": {},
     "output_type": "display_data"
    }
   ],
   "source": [
    "@widgets.interact\n",
    "#plotting accuracy kfold mean and std by hyperparameter for diff n data sizes (combined diff noise levels) \n",
    "def show_acc_vs_clog(data_type=data_wid):\n",
    "    cmodel = 'logistic'\n",
    "    fig = plot_acc_vs_clog(rdata_df, cmodel, data_type)\n",
    "    fig2 = plot_acc_std_vs_clog(rdata_df, cmodel, data_type)\n",
    "    fig.show()\n",
    "    fig2.show()\n",
    "    return"
   ]
  },
  {
   "cell_type": "code",
   "execution_count": 219,
   "id": "29ae0e90-b026-4fbb-9903-c7c8b4a33cb7",
   "metadata": {},
   "outputs": [],
   "source": [
    "# We see two different behaviors with regards to impact of l2 regularization in logistic regression.\n",
    "# In 'moons' dataset we do see regularization helps in logistic regression - we see an increase of accuracy with an increase of \n",
    "# penalty (C). We see it more dramaticly on lower data sizes (except n=5 which looks like an anomaly): we see smaller data sizes need \n",
    "# larger penalty (c) values to \"get closer\" to best-accuracy achieved in its data size. In the large (1K, 10K) data sizes we see \n",
    "# very minor improvement. On stability, accuracy STD we do see some (very) minor improvement in the lower dataset sizes but no \n",
    "# change in the large (1K, 10K) - their accuracy STD stay constant (and very small/close to zero) across penalty (c) values.\n",
    "#\n",
    "# In circles dataset we do NOT see in general that regularization helps in logistic regression. We see very minor changes of \n",
    "# accuracy across penalty (c) values. Accuracy stays pretty constant across penatly (c) values where the different accuracies are\n",
    "# determined by the n-sample size (for combined of noise-levels) - larger, more accurate. In general logistic regression was not\n",
    "# able to get accurate on circles data-type (not able to reach acc=0.5). We even see minor degradation \n",
    "# (like in n=50, n=100). Larger n sample sizes (1k, 10k) the accuracy stays constant throughout different penalty values. \n",
    "# On stability we also do NOT see an improvement, actualy a minor degradation on lower data sizes (10, 50, 100) and on higher \n",
    "# data sizes (1K, 10K) it is quite constant throughout different penalty values.\n",
    "# I assume the data pattern is too complex for this linear model (logistic regression) - so even different penatly (c) values\n",
    "# do not make a difference."
   ]
  },
  {
   "cell_type": "markdown",
   "id": "3404fa41-9ff0-4541-b5a8-a5c453d98b83",
   "metadata": {},
   "source": [
    "### Answer to Q4"
   ]
  },
  {
   "cell_type": "code",
   "execution_count": 220,
   "id": "e61bd164-2ece-46eb-bcee-35f39d3fa106",
   "metadata": {},
   "outputs": [],
   "source": [
    "# Q4 - For a given noise level of your chioce, How does the train, test and difference error changes with increasing data sizes?"
   ]
  },
  {
   "cell_type": "code",
   "execution_count": 221,
   "id": "9d1655c9-2629-4408-b4ff-35aeff55adc3",
   "metadata": {},
   "outputs": [
    {
     "data": {
      "application/vnd.jupyter.widget-view+json": {
       "model_id": "b947c2201b1848339afd673fef009ad9",
       "version_major": 2,
       "version_minor": 0
      },
      "text/plain": [
       "interactive(children=(Dropdown(description='model:', index=1, options=('logistic', 'svm'), value='svm'), Dropd…"
      ]
     },
     "metadata": {},
     "output_type": "display_data"
    }
   ],
   "source": [
    "@widgets.interact\n",
    "#plotting train, val accuracy and error difference (per data_type, noise_lvl, model param) vs n sample size    \n",
    "def show_CV_train_test_error_vs_n( model=model_wid, gamma=gamma_wid, c=log_C_wid, nl=nl_wid, data_type=data_wid):\n",
    "    if model == 'svm':\n",
    "        fig2 = plot_CV_DIFF_vs_n2(rdata_df, gamma, nl, data_type, model)\n",
    "        fig2.show()\n",
    "    elif model == 'logistic':\n",
    "        fig2 = plot_CV_DIFF_vs_n2(rdata_df, c, nl, data_type, model)\n",
    "        fig2.show()\n",
    "    return"
   ]
  },
  {
   "cell_type": "code",
   "execution_count": 222,
   "id": "731dbefb-dc60-47b5-8add-c102f156f8fb",
   "metadata": {},
   "outputs": [],
   "source": [
    "# SVM :\n",
    "# I chose to look first on gamma=1 which should be in the optimum range for circles (see answer to Q1). I looked across different\n",
    "# noise levels - the pattern is similar (although the values of train, test accuracies and error difference differ as well as\n",
    "# at which n data size (x in the graph) it happens - the pattern in general is similar).\n",
    "# We see in lower n data size (n=10) that train accuracy (TRE) is high vs low test accuracy causing error difference (E_DIFF) \n",
    "# to be the highest (overfit in too small dataset). When increasing n sample size: we see a decrease for train accuracy\n",
    "# and an increase on test accuracy (TESTE) until it reaches the TRE (at large data size like 10K sometimes 1K). \n",
    "# This causes the error difference (E_DIFF) to decrease (in general) as data size increase (except n=5 which looks like an\n",
    "# anomaly) until it is close to zero (when TESTE reaches close to TRE).\n",
    "# This pattern (TESTE increases and E_DIFF decreases with n) is also seen when using gamma=1000 (most complex)\n",
    "# with some differences in the accuracy values and rates (slopes) and TRE staying constant - but the overall pattern \n",
    "# is similar (TESTE increases and E_DIFF decreases with n). \n",
    "# We can see that TESTE increase rate is 'slower' - aka only in very large datasets ~10k in circles it gets closer to TRE and \n",
    "# with noisy dataset it even cannot get close to TRE and E_DIFF stays significant.\n",
    "# We see the same pattern in 'moons' data type (with overall better prediction accuracies)\n",
    "\n",
    "# Logistic regression\n",
    "# in general we see the same pattern as SVM - test accuracy (TESTE) increases and error difference (E_DIFF) decreases with n. \n",
    "# Of course there are changes of the accuracy values and the rates (slopes; at which n it happens) comparing within logistc \n",
    "# regression different penalties, data-types and noise levels and also with comparing to SVM - \n",
    "# but the bottomline - this pattern is similar --> test accuracy (TESTE) increases and error diff (E_DIFF) decreases with n. So,\n",
    "# as we seen in many examples in class when we have larger datasets we are able to get better fit and predictions. On lower\n",
    "# n-sample size (n~10, sometimes 50 depending on noise and/or data-type) we see the overfit phenomenon (higher E_DIFF).\n",
    "#\n",
    "#(note - at very low n sample size  n=5 - the data changes on every dataset creation as 1 point difference will cause 0.2 change)"
   ]
  },
  {
   "cell_type": "markdown",
   "id": "7b19c29f-8f1f-412b-83f8-2e8e3e42be61",
   "metadata": {},
   "source": [
    "### Answer to Q5"
   ]
  },
  {
   "cell_type": "code",
   "execution_count": 223,
   "id": "f75ef2d0-f43e-440a-9932-9079df1e4dff",
   "metadata": {},
   "outputs": [],
   "source": [
    "#Q5 - For a given noise level of your chioce, How does the train, test and difference error changes with increasing model complexity?"
   ]
  },
  {
   "cell_type": "code",
   "execution_count": 224,
   "id": "67905cc2-fd2b-4f4a-ac7b-30d55336d107",
   "metadata": {},
   "outputs": [
    {
     "data": {
      "application/vnd.jupyter.widget-view+json": {
       "model_id": "4d84b8f0e2e2457488ce02f1c3d702f4",
       "version_major": 2,
       "version_minor": 0
      },
      "text/plain": [
       "interactive(children=(Dropdown(description='n:', index=5, options=(5, 10, 50, 100, 1000, 10000), value=10000),…"
      ]
     },
     "metadata": {},
     "output_type": "display_data"
    }
   ],
   "source": [
    "#plotting train, val accuracy and error difference (per data_type, noise_lvl, n) vs hyperparam values\n",
    "@widgets.interact\n",
    "def show_CV_train_test_error(n=n_wid, nl=nl_wid, data_type=data_wid, model=model_wid):\n",
    "    fig = plot_CV_train_test_error(rdata_df, n, nl, data_type, model)\n",
    "    fig.show()\n",
    "    fig2 = plot_CV_DIFF_E(rdata_df, n, nl, data_type, model)\n",
    "    fig2.show()\n",
    "    return"
   ]
  },
  {
   "cell_type": "code",
   "execution_count": 225,
   "id": "334bbdca-0da0-40ba-a548-97bdd9af2a50",
   "metadata": {},
   "outputs": [],
   "source": [
    "# for SVM - from the graphs we can clearly observe the overfitting phenomenon with overly complex model:\n",
    "# looked as an example - at n=10k, noise=0.3 and data_type=moons \n",
    "# what we see as a general pattern is: increasing complexity (or gamma increasing) increases both train (TRE) and test (TESTE)\n",
    "# accuracy - until it reaches a point (a certain gamma value) that test accuracy (TESTE) starts degrading (and error \n",
    "# difference E_DIFF starts increasing). The terminology to use is: overfitting - when the model is too close aligned to \n",
    "# the training data points - hence TRE continues to increase - while, on the unfamiliar data points (validation/test) its \n",
    "# predication accuracy degrades - hence TESTE starts to decrease (in this example around gamma >= 20). For an optimal model\n",
    "# we will choose a lower parmeter (less complex model) not to 'reach' overfitting (in this case: gamma between 0.5-10).\n",
    "# This is observed on both data_types (moons and circles). \n",
    "# We observe overfitting is higher (higher E_DIFF values) and starts 'earlier' (in lower gammas values) in higher noise levels \n",
    "# as well as overfitting is higher on smaller datasets (lower n)."
   ]
  },
  {
   "cell_type": "markdown",
   "id": "7ebbe8bf-cf27-4527-8383-be4d6361fc3f",
   "metadata": {},
   "source": [
    "### Answer to Q6"
   ]
  },
  {
   "cell_type": "code",
   "execution_count": 226,
   "id": "1cf25a94-1abc-4e8e-ab1d-6816cc0c9055",
   "metadata": {},
   "outputs": [],
   "source": [
    "#Q6 - Are the noise level effect the number of datapoints needed to reach minimal test results?"
   ]
  },
  {
   "cell_type": "code",
   "execution_count": 227,
   "id": "aca98e34-e808-4a35-8a3b-f6ce1cdc2858",
   "metadata": {},
   "outputs": [
    {
     "data": {
      "application/vnd.jupyter.widget-view+json": {
       "model_id": "749f5f365c9045cd951f6033d40de416",
       "version_major": 2,
       "version_minor": 0
      },
      "text/plain": [
       "interactive(children=(Dropdown(description='data type:', index=1, options=('circles', 'moons'), value='moons')…"
      ]
     },
     "metadata": {},
     "output_type": "display_data"
    }
   ],
   "source": [
    "@widgets.interact\n",
    "#plotting Accuracy and Error Difference for diff Noise levels (per data_type, model, model param) vs n sample size     \n",
    "def show_CV_model_error1(data_type=data_wid, model=model_wid, gamma=gamma_wid, c=log_C_wid):\n",
    "    fig = plot_CV_DIFF_vs_n6(rdata_df, data_type, model, gamma, c)\n",
    "    #print(fig)\n",
    "    fig.show()\n",
    "    return"
   ]
  },
  {
   "cell_type": "code",
   "execution_count": 228,
   "id": "09a95dcb-1e94-4e90-829b-f60d7b02cd0b",
   "metadata": {},
   "outputs": [
    {
     "data": {
      "application/vnd.jupyter.widget-view+json": {
       "model_id": "9f9a2fb7c5484cfe9f7f2816bc007018",
       "version_major": 2,
       "version_minor": 0
      },
      "text/plain": [
       "interactive(children=(Dropdown(description='data type:', index=1, options=('circles', 'moons'), value='moons')…"
      ]
     },
     "metadata": {},
     "output_type": "display_data"
    }
   ],
   "source": [
    "@widgets.interact\n",
    "#plotting Accuracy/best-Accuracy-achieved Proportion (per data_type, model, model param) for diff Noise levels vs n sample size    \n",
    "def show_CV_model_error3(data_type=data_wid, model=model_wid, gamma=gamma_wid, c=log_C_wid):\n",
    "    fig = plot_CV_DIFF_vs_prop(rdata_df, data_type, model, gamma, c)\n",
    "    #print(fig)\n",
    "    fig.show()\n",
    "    return"
   ]
  },
  {
   "cell_type": "code",
   "execution_count": 229,
   "id": "caf049df-4112-4c5c-b325-11713fa181ee",
   "metadata": {},
   "outputs": [],
   "source": [
    "# Observation from the  graphs (focusing on high noise levels: 0.4, 0.5 vs low noise levels: 0, 0.1) is that the noisier the \n",
    "# dataset the best-accuracy is lower. also in most cases the best-accuracy is reached on the larger n-sample size.\n",
    "# intuition would have lead to the conclusion that the noisier dataset will reach \"good\" (or \"minimal\") accuracy\n",
    "# on larger n-sample size compared to the \"cleaner\" dataset. But - in general the data is inconclusive. In many cases (different\n",
    "# data_types, diff models) I cannot say that on higher noise levels you need larger n sample size to reach better results. \n",
    "# The observations I see are that on noiser data the model reaches lesser accurancy, but the rate of reaching it (with regrads \n",
    "# to increasing n sample size) is similar to the cleaner data."
   ]
  },
  {
   "cell_type": "markdown",
   "id": "ad8ffe8f-8c0b-4dc3-9cc2-9c3dc02852d7",
   "metadata": {},
   "source": [
    "## Moons dataset"
   ]
  },
  {
   "cell_type": "code",
   "execution_count": null,
   "id": "7a6b4c61-454e-4887-963f-61d5ec6bc19f",
   "metadata": {},
   "outputs": [],
   "source": [
    "from sklearn.datasets import make_moons"
   ]
  },
  {
   "cell_type": "code",
   "execution_count": null,
   "id": "7392ae8f-32a7-4c77-a5be-34043ecd09ec",
   "metadata": {},
   "outputs": [],
   "source": [
    "points, label = make_moons(n_samples=1000, noise=0.25)\n",
    "moons_df = pd.DataFrame(points, columns=['x','y'])\n",
    "moons_df['label'] = label\n",
    "moons_df.label = moons_df.label.map({0:'A', 1:'B'})\n",
    "moons_df.head()"
   ]
  },
  {
   "cell_type": "code",
   "execution_count": null,
   "id": "092d0db7-b30e-4e5f-98c3-7807432f442a",
   "metadata": {},
   "outputs": [],
   "source": [
    "px.scatter(moons_df, x='x', y='y', color = 'label')"
   ]
  },
  {
   "cell_type": "code",
   "execution_count": null,
   "id": "48c4d95c-3cad-4596-a8b3-29d67aa9859c",
   "metadata": {},
   "outputs": [],
   "source": [
    "@widgets.interact\n",
    "def plot_noisy_moons(noise_level = widgets.FloatSlider(value=0, min=0, max=0.5, step=0.05)):\n",
    "    points, label = make_moons(n_samples=1000, noise=noise_level)\n",
    "    moons_df = pd.DataFrame(points, columns=['x','y'])\n",
    "    moons_df['label'] = label\n",
    "    moons_df.label = moons_df.label.map({0:'A', 1:'B'})\n",
    "    return px.scatter(moons_df, x='x', y='y', color = 'label')"
   ]
  },
  {
   "cell_type": "markdown",
   "id": "a3299f00-00b8-4703-8568-35de2913a487",
   "metadata": {},
   "source": [
    "## Circles Dataset"
   ]
  },
  {
   "cell_type": "code",
   "execution_count": 81,
   "id": "b0094b71-e91b-438a-9ecf-c69d3e81ef7f",
   "metadata": {},
   "outputs": [],
   "source": [
    "from sklearn.datasets import make_circles"
   ]
  },
  {
   "cell_type": "code",
   "execution_count": null,
   "id": "96f270cc-6ce4-4bea-9884-e4bb14e2763d",
   "metadata": {},
   "outputs": [],
   "source": [
    "def make_circles_dataframe(n_samples, noise_level):\n",
    "    points, label = make_circles(n_samples=n_samples, noise=noise_level)\n",
    "    circles_df = pd.DataFrame(points, columns=['x','y'])\n",
    "    circles_df['label'] = label\n",
    "    circles_df.label = circles_df.label.map({0:'A', 1:'B'})\n",
    "    return circles_df"
   ]
  },
  {
   "cell_type": "code",
   "execution_count": null,
   "id": "14b1498d-60e1-429e-a122-f120f5ed5720",
   "metadata": {},
   "outputs": [],
   "source": [
    "circles_df = make_circles_dataframe(n_samples=500, noise_level=0)\n",
    "circles_df.head()"
   ]
  },
  {
   "cell_type": "code",
   "execution_count": null,
   "id": "bb0f7ebf-e5eb-47fd-8e0e-7e6b69c657aa",
   "metadata": {},
   "outputs": [],
   "source": [
    "px.scatter(circles_df, x='x', y='y', color = 'label')"
   ]
  },
  {
   "cell_type": "code",
   "execution_count": null,
   "id": "52ef522a-e381-42e1-b321-31b3d2f3b0de",
   "metadata": {},
   "outputs": [],
   "source": [
    "@widgets.interact\n",
    "def plot_noisy_circles(noise_level = widgets.FloatSlider(value=0, min=0, max=0.5, step=0.05)):\n",
    "    df = make_circles_dataframe(1000, noise_level)\n",
    "    return px.scatter(df, x='x', y='y', color = 'label')"
   ]
  }
 ],
 "metadata": {
  "kernelspec": {
   "display_name": "Python 3",
   "language": "python",
   "name": "python3"
  },
  "language_info": {
   "codemirror_mode": {
    "name": "ipython",
    "version": 3
   },
   "file_extension": ".py",
   "mimetype": "text/x-python",
   "name": "python",
   "nbconvert_exporter": "python",
   "pygments_lexer": "ipython3",
   "version": "3.8.8"
  }
 },
 "nbformat": 4,
 "nbformat_minor": 5
}
